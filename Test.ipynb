{
 "cells": [
  {
   "cell_type": "code",
   "execution_count": 1,
   "metadata": {},
   "outputs": [],
   "source": [
    "from GUI import GUI\n",
    "from Image import Image\n",
    "import cv2\n",
    "import glob"
   ]
  },
  {
   "cell_type": "code",
   "execution_count": 2,
   "metadata": {},
   "outputs": [],
   "source": [
    "name = 'data/1'\n",
    "img_path = name + '.png'\n",
    "annot_path = name + '.json'"
   ]
  },
  {
   "cell_type": "code",
   "execution_count": 3,
   "metadata": {},
   "outputs": [],
   "source": [
    "gui = GUI(img_path, annot_path)"
   ]
  },
  {
   "cell_type": "code",
   "execution_count": 4,
   "metadata": {},
   "outputs": [
    {
     "name": "stdout",
     "output_type": "stream",
     "text": [
      "No annotation file exits\n"
     ]
    }
   ],
   "source": [
    "gui.load_annotations()\n",
    "gui.visualize_annotations(show_individual=True)"
   ]
  },
  {
   "cell_type": "code",
   "execution_count": 5,
   "metadata": {},
   "outputs": [],
   "source": [
    "gui.widget_detection()\n",
    "gui.visualize_widgets(show_individual=False)"
   ]
  },
  {
   "cell_type": "code",
   "execution_count": 6,
   "metadata": {},
   "outputs": [
    {
     "name": "stdout",
     "output_type": "stream",
     "text": [
      "*** Text Detection Time Taken:2.695s ***\n"
     ]
    }
   ],
   "source": [
    "gui.text_detection()\n",
    "gui.text_sentences_recognition()\n",
    "gui.text_shrink_bound()\n",
    "gui.visualize_texts(line=2)"
   ]
  },
  {
   "cell_type": "code",
   "execution_count": 7,
   "metadata": {},
   "outputs": [
    {
     "data": {
      "text/plain": [
       "array([[[ 83,  83,  83],\n",
       "        [ 83,  83,  83],\n",
       "        [ 82,  82,  82],\n",
       "        ...,\n",
       "        [ 81,  81,  81],\n",
       "        [ 82,  82,  82],\n",
       "        [ 83,  83,  83]],\n",
       "\n",
       "       [[ 81,  81,  81],\n",
       "        [ 83,  83,  83],\n",
       "        [ 83,  83,  83],\n",
       "        ...,\n",
       "        [ 83,  83,  83],\n",
       "        [ 84,  84,  84],\n",
       "        [ 83,  83,  83]],\n",
       "\n",
       "       [[ 82,  82,  82],\n",
       "        [ 83,  83,  83],\n",
       "        [ 83,  83,  83],\n",
       "        ...,\n",
       "        [ 82,  82,  82],\n",
       "        [ 82,  82,  82],\n",
       "        [ 83,  83,  83]],\n",
       "\n",
       "       ...,\n",
       "\n",
       "       [[255,   0,   0],\n",
       "        [255,   0,   0],\n",
       "        [ 49,  49,  49],\n",
       "        ...,\n",
       "        [ 81,  81,  81],\n",
       "        [ 82,  82,  82],\n",
       "        [ 81,  81,  81]],\n",
       "\n",
       "       [[255,   0,   0],\n",
       "        [255,   0,   0],\n",
       "        [ 48,  48,  48],\n",
       "        ...,\n",
       "        [ 81,  81,  81],\n",
       "        [ 81,  81,  81],\n",
       "        [ 82,  82,  82]],\n",
       "\n",
       "       [[255,   0,   0],\n",
       "        [255,   0,   0],\n",
       "        [255,   0,   0],\n",
       "        ...,\n",
       "        [ 84,  84,  84],\n",
       "        [ 81,  81,  81],\n",
       "        [ 81,  81,  81]]], dtype=uint8)"
      ]
     },
     "execution_count": 7,
     "metadata": {},
     "output_type": "execute_result"
    }
   ],
   "source": [
    "gui.visualize_all_elements()\n",
    "gui.merge_texts_widgets()\n",
    "gui.visualize_all_elements()"
   ]
  },
  {
   "cell_type": "code",
   "execution_count": 9,
   "metadata": {},
   "outputs": [],
   "source": []
  }
 ],
 "metadata": {
  "kernelspec": {
   "display_name": "Python 3",
   "language": "python",
   "name": "python3"
  },
  "language_info": {
   "codemirror_mode": {
    "name": "ipython",
    "version": 3
   },
   "file_extension": ".py",
   "mimetype": "text/x-python",
   "name": "python",
   "nbconvert_exporter": "python",
   "pygments_lexer": "ipython3",
   "version": "3.5.6"
  }
 },
 "nbformat": 4,
 "nbformat_minor": 2
}
