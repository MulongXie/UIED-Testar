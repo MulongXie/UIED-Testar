{
 "cells": [
  {
   "cell_type": "code",
   "execution_count": 1,
   "metadata": {},
   "outputs": [],
   "source": [
    "from GUI import GUI\n",
    "import cv2"
   ]
  },
  {
   "cell_type": "code",
   "execution_count": 2,
   "metadata": {},
   "outputs": [],
   "source": [
    "name = 'data/dataset2/SCC1ck8ce123d1654653975'\n",
    "img_path = name + '.png'\n",
    "annot_path = name + '.json'"
   ]
  },
  {
   "cell_type": "code",
   "execution_count": 3,
   "metadata": {},
   "outputs": [],
   "source": [
    "gui = GUI(img_path, annot_path)"
   ]
  },
  {
   "cell_type": "code",
   "execution_count": 4,
   "metadata": {},
   "outputs": [
    {
     "name": "stdout",
     "output_type": "stream",
     "text": [
      "*** Text Detection Time Taken:1.382s ***\n"
     ]
    }
   ],
   "source": [
    "gui.text_detection()\n",
    "gui.text_sentences_recognition()\n",
    "gui.visualize_texts(line=2)"
   ]
  },
  {
   "cell_type": "code",
   "execution_count": 6,
   "metadata": {},
   "outputs": [],
   "source": [
    "gui.load_annotations()\n",
    "gui.visualize_annotations(show_individual=True)"
   ]
  },
  {
   "cell_type": "code",
   "execution_count": 7,
   "metadata": {},
   "outputs": [],
   "source": []
  },
  {
   "cell_type": "code",
   "execution_count": 7,
   "metadata": {},
   "outputs": [],
   "source": [
    "board = gui.img.copy()\n",
    "for annot in gui.annotations:\n",
    "    board = gui.img.copy()\n",
    "    cv2.rectangle(board, annot[0], annot[2], (0,0,255), 1)\n",
    "    cv2.imshow('annotations', board)\n",
    "    cv2.waitKey()\n",
    "    cv2.destroyWindow('annotations')"
   ]
  },
  {
   "cell_type": "code",
   "execution_count": null,
   "metadata": {},
   "outputs": [],
   "source": []
  }
 ],
 "metadata": {
  "kernelspec": {
   "display_name": "Python 3",
   "language": "python",
   "name": "python3"
  },
  "language_info": {
   "codemirror_mode": {
    "name": "ipython",
    "version": 3
   },
   "file_extension": ".py",
   "mimetype": "text/x-python",
   "name": "python",
   "nbconvert_exporter": "python",
   "pygments_lexer": "ipython3",
   "version": "3.5.6"
  }
 },
 "nbformat": 4,
 "nbformat_minor": 2
}
