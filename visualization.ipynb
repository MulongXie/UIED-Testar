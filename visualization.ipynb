{
 "cells": [
  {
   "cell_type": "code",
   "execution_count": 1,
   "metadata": {},
   "outputs": [],
   "source": [
    "import cv2\n",
    "import json\n",
    "from glob import glob\n",
    "from os.path import join as pjoin"
   ]
  },
  {
   "cell_type": "code",
   "execution_count": 2,
   "metadata": {},
   "outputs": [],
   "source": [
    "json_files = glob('data\\\\dataset2\\\\' + '*.json')\n",
    "names = [n.split('\\\\')[-1][:-5] for n in json_files]"
   ]
  },
  {
   "cell_type": "code",
   "execution_count": 3,
   "metadata": {},
   "outputs": [],
   "source": [
    "js = json.load(open(json_files[0], 'r'))\n",
    "img = cv2.imread(pjoin('data', 'dataset2', js['screenshotId'] + '.png'))\n",
    "height, width = img.shape[:2]"
   ]
  },
  {
   "cell_type": "code",
   "execution_count": null,
   "metadata": {},
   "outputs": [],
   "source": []
  },
  {
   "cell_type": "code",
   "execution_count": 4,
   "metadata": {},
   "outputs": [],
   "source": [
    "def coord_transform(vertice):\n",
    "    new_points = []\n",
    "    for point in widget['boundingPoly']['stringVertice']:\n",
    "        new_points.append((int(float(point['x']) * width),  int(float(point['y']) * height)))\n",
    "    return new_points"
   ]
  },
  {
   "cell_type": "code",
   "execution_count": 5,
   "metadata": {},
   "outputs": [],
   "source": [
    "def visualize_widget(widget_bound, board, show=True):\n",
    "    cv2.rectangle(board, widget_bound[0], widget_bound[2], (0,0,255), 2)\n",
    "    if show:\n",
    "        cv2.imshow('widget', board)\n",
    "        cv2.waitKey()\n",
    "        cv2.destroyWindow('widget')"
   ]
  },
  {
   "cell_type": "code",
   "execution_count": 6,
   "metadata": {},
   "outputs": [
    {
     "name": "stdout",
     "output_type": "stream",
     "text": [
      "[(1112, 0), (1159, 0), (1159, 30), (1112, 30)]\n",
      "[(1, 30), (1251, 30), (1251, 49), (1, 49)]\n",
      "[(963, 752), (1011, 752), (1011, 778), (963, 778)]\n",
      "[(1234, 733), (1251, 733), (1251, 750), (1234, 750)]\n",
      "[(1, 50), (1251, 50), (1251, 750), (1, 750)]\n",
      "[(1, 750), (1251, 750), (1251, 778), (1, 778)]\n",
      "[(201, 104), (413, 104), (413, 126), (201, 126)]\n",
      "[(1206, 0), (1253, 0), (1253, 30), (1206, 30)]\n",
      "[(824, 752), (961, 752), (961, 778), (824, 778)]\n",
      "[(1, 30), (55, 30), (55, 49), (1, 49)]\n",
      "[(1159, 0), (1206, 0), (1206, 30), (1159, 30)]\n",
      "[(1234, 50), (1251, 50), (1251, 67), (1234, 67)]\n",
      "[(108, 30), (167, 30), (167, 49), (108, 49)]\n",
      "[(16, 2), (1251, 2), (1251, 30), (16, 30)]\n",
      "[(197, 30), (246, 30), (246, 49), (197, 49)]\n",
      "[(1, 7), (23, 7), (23, 29), (1, 29)]\n",
      "[(1134, 752), (1236, 752), (1236, 778), (1134, 778)]\n",
      "[(201, 75), (413, 75), (413, 97), (201, 97)]\n",
      "[(201, 53), (413, 53), (413, 75), (201, 75)]\n",
      "[(1, 7), (23, 7), (23, 29), (1, 29)]\n",
      "[(1013, 752), (1132, 752), (1132, 778), (1013, 778)]\n",
      "[(167, 30), (197, 30), (197, 49), (167, 49)]\n",
      "[(0, 0), (1253, 0), (1253, 779), (0, 779)]\n",
      "[(1234, 50), (1251, 50), (1251, 750), (1234, 750)]\n",
      "[(1, 752), (822, 752), (822, 778), (1, 778)]\n",
      "[(197, 49), (417, 49), (417, 128), (197, 128)]\n",
      "[(55, 30), (108, 30), (108, 49), (55, 49)]\n"
     ]
    }
   ],
   "source": [
    "for widget in js['widgetJsonObjects']:\n",
    "    board = img.copy()\n",
    "    new_bound = coord_transform(widget['boundingPoly']['stringVertice'])\n",
    "    print(new_bound)\n",
    "    visualize_widget(new_bound, board, show=True)"
   ]
  },
  {
   "cell_type": "code",
   "execution_count": null,
   "metadata": {},
   "outputs": [],
   "source": [
    "cv2.imshow('img', img)\n",
    "cv2.waitKey()\n",
    "cv2.destroyWindow('img')"
   ]
  }
 ],
 "metadata": {
  "kernelspec": {
   "display_name": "Python 3",
   "language": "python",
   "name": "python3"
  },
  "language_info": {
   "codemirror_mode": {
    "name": "ipython",
    "version": 3
   },
   "file_extension": ".py",
   "mimetype": "text/x-python",
   "name": "python",
   "nbconvert_exporter": "python",
   "pygments_lexer": "ipython3",
   "version": "3.5.6"
  }
 },
 "nbformat": 4,
 "nbformat_minor": 2
}
