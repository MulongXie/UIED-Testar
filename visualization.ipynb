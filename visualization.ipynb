{
 "cells": [
  {
   "cell_type": "code",
   "execution_count": 1,
   "metadata": {},
   "outputs": [],
   "source": [
    "import cv2\n",
    "import json\n",
    "from glob import glob\n",
    "from os.path import join as pjoin"
   ]
  },
  {
   "cell_type": "code",
   "execution_count": 2,
   "metadata": {},
   "outputs": [],
   "source": [
    "def coord_transform(points):\n",
    "    new_points = []\n",
    "    for point in points:\n",
    "        new_points.append((int(float(point['x']) * width),  int(float(point['y']) * height)))\n",
    "    return new_points\n",
    "\n",
    "\n",
    "def visualize_widget(widget_bound, board, show=True):\n",
    "    cv2.rectangle(board, widget_bound[0], widget_bound[2], (0,0,255), 1)\n",
    "    if show:\n",
    "        cv2.imshow('widget', board)\n",
    "        cv2.waitKey()\n",
    "        cv2.destroyWindow('widget')"
   ]
  },
  {
   "cell_type": "code",
   "execution_count": 3,
   "metadata": {},
   "outputs": [],
   "source": [
    "json_files = glob('data\\\\dataset2\\\\' + '*.json')\n",
    "names = [n.split('\\\\')[-1][:-5] for n in json_files]"
   ]
  },
  {
   "cell_type": "code",
   "execution_count": 4,
   "metadata": {},
   "outputs": [],
   "source": [
    "js = json.load(open(json_files[0], 'r'))\n",
    "img = cv2.imread(pjoin('data', 'dataset2', js['screenshotId'] + '.png'))\n",
    "height, width = img.shape[:2]"
   ]
  },
  {
   "cell_type": "code",
   "execution_count": 5,
   "metadata": {},
   "outputs": [],
   "source": [
    "for widget in js['widgetJsonObjects']:\n",
    "#     board = img.copy()\n",
    "#     print(widget)\n",
    "    new_bound = coord_transform(widget['boundingPoly']['stringVertice'])\n",
    "    visualize_widget(new_bound, img, show=False)"
   ]
  },
  {
   "cell_type": "code",
   "execution_count": 6,
   "metadata": {},
   "outputs": [],
   "source": [
    "cv2.imshow('img', img)\n",
    "cv2.waitKey()\n",
    "cv2.destroyWindow('img')"
   ]
  }
 ],
 "metadata": {
  "kernelspec": {
   "display_name": "Python 3",
   "language": "python",
   "name": "python3"
  },
  "language_info": {
   "codemirror_mode": {
    "name": "ipython",
    "version": 3
   },
   "file_extension": ".py",
   "mimetype": "text/x-python",
   "name": "python",
   "nbconvert_exporter": "python",
   "pygments_lexer": "ipython3",
   "version": "3.5.6"
  }
 },
 "nbformat": 4,
 "nbformat_minor": 2
}
