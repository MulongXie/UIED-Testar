{
 "cells": [
  {
   "cell_type": "code",
   "execution_count": 1,
   "metadata": {},
   "outputs": [],
   "source": [
    "import cv2\n",
    "import json\n",
    "from glob import glob\n",
    "from os.path import join as pjoin"
   ]
  },
  {
   "cell_type": "code",
   "execution_count": 1,
   "metadata": {},
   "outputs": [
    {
     "ename": "NameError",
     "evalue": "name 'glob' is not defined",
     "output_type": "error",
     "traceback": [
      "\u001b[1;31m---------------------------------------------------------------------------\u001b[0m",
      "\u001b[1;31mNameError\u001b[0m                                 Traceback (most recent call last)",
      "\u001b[1;32m<ipython-input-1-37b8c7bef0af>\u001b[0m in \u001b[0;36m<module>\u001b[1;34m()\u001b[0m\n\u001b[1;32m----> 1\u001b[1;33m \u001b[0mjson_files\u001b[0m \u001b[1;33m=\u001b[0m \u001b[0mglob\u001b[0m\u001b[1;33m(\u001b[0m\u001b[1;34m'data\\\\dataset2\\\\'\u001b[0m \u001b[1;33m+\u001b[0m \u001b[1;34m'*.json'\u001b[0m\u001b[1;33m)\u001b[0m\u001b[1;33m\u001b[0m\u001b[0m\n\u001b[0m\u001b[0;32m      2\u001b[0m \u001b[0mnames\u001b[0m \u001b[1;33m=\u001b[0m \u001b[1;33m[\u001b[0m\u001b[0mn\u001b[0m\u001b[1;33m.\u001b[0m\u001b[0msplit\u001b[0m\u001b[1;33m(\u001b[0m\u001b[1;34m'\\\\'\u001b[0m\u001b[1;33m)\u001b[0m\u001b[1;33m[\u001b[0m\u001b[1;33m-\u001b[0m\u001b[1;36m1\u001b[0m\u001b[1;33m]\u001b[0m\u001b[1;33m[\u001b[0m\u001b[1;33m:\u001b[0m\u001b[1;33m-\u001b[0m\u001b[1;36m5\u001b[0m\u001b[1;33m]\u001b[0m \u001b[1;32mfor\u001b[0m \u001b[0mn\u001b[0m \u001b[1;32min\u001b[0m \u001b[0mjson_files\u001b[0m\u001b[1;33m]\u001b[0m\u001b[1;33m\u001b[0m\u001b[0m\n",
      "\u001b[1;31mNameError\u001b[0m: name 'glob' is not defined"
     ]
    }
   ],
   "source": [
    "json_files = glob('data\\\\dataset2\\\\' + '*.json')\n",
    "names = [n.split('\\\\')[-1][:-5] for n in json_files]"
   ]
  },
  {
   "cell_type": "code",
   "execution_count": 3,
   "metadata": {},
   "outputs": [],
   "source": [
    "js = json.load(open(json_files[0], 'r'))\n",
    "img = cv2.imread(pjoin('data', 'dataset2', js['screenshotId'] + '.png'))\n",
    "height, width = img.shape[:2]"
   ]
  },
  {
   "cell_type": "code",
   "execution_count": 4,
   "metadata": {},
   "outputs": [],
   "source": [
    "def coord_transform(vertice):\n",
    "    new_points = []\n",
    "    for point in widget['boundingPoly']['stringVertice']:\n",
    "        new_points.append((int(float(point['x']) * width),  int(float(point['y']) * height)))\n",
    "    return new_points"
   ]
  },
  {
   "cell_type": "code",
   "execution_count": 5,
   "metadata": {},
   "outputs": [],
   "source": [
    "def visualize_widget(widget_bound, board, show=True):\n",
    "    cv2.rectangle(board, widget_bound[0], widget_bound[2], (0,0,255), 1)\n",
    "    if show:\n",
    "        cv2.imshow('widget', board)\n",
    "        cv2.waitKey()\n",
    "        cv2.destroyWindow('widget')"
   ]
  },
  {
   "cell_type": "code",
   "execution_count": null,
   "metadata": {},
   "outputs": [
    {
     "name": "stdout",
     "output_type": "stream",
     "text": [
      "{'enabled': True, 'toolTipText': '', 'destinationState': 'none', 'className': '', 'desc': 'Minimizar', 'role': 'UIAButton', 'boundingPoly': {'stringVertice': [{'x': '0.888268156', 'y': '0.001283697'}, {'x': '0.925778132', 'y': '0.001283697'}, {'x': '0.925778132', 'y': '0.039794608'}, {'x': '0.888268156', 'y': '0.039794608'}]}, 'widgetId': 'WCC19hmchi2922857849346', 'valuePattern': '', 'title': 'Minimizar', 'name': 'Minimizar', 'blocked': False}\n",
      "{'enabled': True, 'toolTipText': '', 'destinationState': 'none', 'className': '', 'desc': 'Aplicación', 'role': 'UIAMenuBar', 'boundingPoly': {'stringVertice': [{'x': '0.000798085', 'y': '0.039794608'}, {'x': '0.999201915', 'y': '0.039794608'}, {'x': '0.999201915', 'y': '0.064184852'}, {'x': '0.000798085', 'y': '0.064184852'}]}, 'widgetId': 'WCCeso0fr29a977615869', 'valuePattern': '', 'title': 'Aplicación', 'name': 'Aplicación', 'blocked': False}\n",
      "{'enabled': True, 'toolTipText': '', 'destinationState': 'none', 'className': '', 'desc': ' 100%', 'role': 'UIAText', 'boundingPoly': {'stringVertice': [{'x': '0.769353551', 'y': '0.965340180'}, {'x': '0.807661612', 'y': '0.965340180'}, {'x': '0.807661612', 'y': '0.998716303'}, {'x': '0.769353551', 'y': '0.998716303'}]}, 'widgetId': 'WCCjqp02n28f4167584310', 'valuePattern': '', 'title': ' 100%', 'name': ' 100%', 'blocked': False}\n",
      "{'enabled': False, 'toolTipText': '', 'destinationState': 'none', 'className': '', 'desc': 'Línea abajo', 'role': 'UIAButton', 'boundingPoly': {'stringVertice': [{'x': '0.985634477', 'y': '0.940949936'}, {'x': '0.999201915', 'y': '0.940949936'}, {'x': '0.999201915', 'y': '0.962772786'}, {'x': '0.985634477', 'y': '0.962772786'}]}, 'widgetId': 'WCC1fzn3al2a31463427232', 'valuePattern': '', 'title': 'Línea abajo', 'name': 'Línea abajo', 'blocked': False}\n",
      "{'enabled': True, 'toolTipText': '', 'destinationState': 'none', 'className': 'Edit', 'desc': 'Editor de texto', 'role': 'UIAEdit', 'boundingPoly': {'stringVertice': [{'x': '0.000798085', 'y': '0.065468549'}, {'x': '0.999201915', 'y': '0.065468549'}, {'x': '0.999201915', 'y': '0.962772786'}, {'x': '0.000798085', 'y': '0.962772786'}]}, 'widgetId': 'WCCi9l5vd2a01679616252', 'valuePattern': '', 'title': 'Editor de texto', 'name': 'Editor de texto', 'blocked': False}\n",
      "{'enabled': True, 'toolTipText': '', 'destinationState': 'none', 'className': 'msctls_statusbar32', 'desc': 'Barra de estado', 'role': 'UIAStatusBar', 'boundingPoly': {'stringVertice': [{'x': '0.000798085', 'y': '0.962772786'}, {'x': '0.999201915', 'y': '0.962772786'}, {'x': '0.999201915', 'y': '0.998716303'}, {'x': '0.000798085', 'y': '0.998716303'}]}, 'widgetId': 'WCC5ynjpu2b12204907316', 'valuePattern': '', 'title': 'Barra de estado', 'name': 'Barra de estado', 'blocked': False}\n",
      "{'enabled': True, 'toolTipText': '', 'destinationState': 'SCCrmnlrk3212324143530', 'className': '', 'desc': 'Acerca del Bloc de notas', 'role': 'UIAMenuItem', 'boundingPoly': {'stringVertice': [{'x': '0.160415004', 'y': '0.133504493'}, {'x': '0.330407023', 'y': '0.133504493'}, {'x': '0.330407023', 'y': '0.161745828'}, {'x': '0.160415004', 'y': '0.161745828'}]}, 'widgetId': 'WCC16dbbdi2a4133722811', 'valuePattern': '', 'title': 'Acerca del Bloc de notas', 'name': 'Acerca del Bloc de notas', 'blocked': False}\n",
      "{'enabled': True, 'toolTipText': '', 'destinationState': 'none', 'className': '', 'desc': 'Cerrar', 'role': 'UIAButton', 'boundingPoly': {'stringVertice': [{'x': '0.962490024', 'y': '0.001283697'}, {'x': '1.000000000', 'y': '0.001283697'}, {'x': '1.000000000', 'y': '0.039794608'}, {'x': '0.962490024', 'y': '0.039794608'}]}, 'widgetId': 'WCCa94bir28f3186730929', 'valuePattern': '', 'title': 'Cerrar', 'name': 'Cerrar', 'blocked': False}\n",
      "{'enabled': True, 'toolTipText': '', 'destinationState': 'none', 'className': '', 'desc': '  Ln 1, Col 1', 'role': 'UIAText', 'boundingPoly': {'stringVertice': [{'x': '0.657621708', 'y': '0.965340180'}, {'x': '0.767757382', 'y': '0.965340180'}, {'x': '0.767757382', 'y': '0.998716303'}, {'x': '0.657621708', 'y': '0.998716303'}]}, 'widgetId': 'WCC1baqutv298355544296', 'valuePattern': '', 'title': '  Ln 1, Col 1', 'name': '  Ln 1, Col 1', 'blocked': False}\n",
      "{'enabled': True, 'toolTipText': '', 'destinationState': 'SCC1x9hbzb2022697922901', 'className': '', 'desc': 'Archivo', 'role': 'UIAMenuItem', 'boundingPoly': {'stringVertice': [{'x': '0.000798085', 'y': '0.039794608'}, {'x': '0.044692737', 'y': '0.039794608'}, {'x': '0.044692737', 'y': '0.064184852'}, {'x': '0.000798085', 'y': '0.064184852'}]}, 'widgetId': 'WCCl9hdxq291901973736', 'valuePattern': '', 'title': 'Archivo', 'name': 'Archivo', 'blocked': False}\n"
     ]
    }
   ],
   "source": [
    "for widget in js['widgetJsonObjects']:\n",
    "#     board = img.copy()\n",
    "#     print(widget)\n",
    "    new_bound = coord_transform(widget['boundingPoly']['stringVertice'])\n",
    "    visualize_widget(new_bound, board, show=False)"
   ]
  },
  {
   "cell_type": "code",
   "execution_count": null,
   "metadata": {},
   "outputs": [],
   "source": [
    "cv2.imshow('img', img)\n",
    "cv2.waitKey()\n",
    "cv2.destroyWindow('img')"
   ]
  }
 ],
 "metadata": {
  "kernelspec": {
   "display_name": "Python 3",
   "language": "python",
   "name": "python3"
  },
  "language_info": {
   "codemirror_mode": {
    "name": "ipython",
    "version": 3
   },
   "file_extension": ".py",
   "mimetype": "text/x-python",
   "name": "python",
   "nbconvert_exporter": "python",
   "pygments_lexer": "ipython3",
   "version": "3.5.6"
  }
 },
 "nbformat": 4,
 "nbformat_minor": 2
}
